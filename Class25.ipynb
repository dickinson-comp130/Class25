{
 "cells": [
  {
   "cell_type": "markdown",
   "metadata": {},
   "source": [
    "# Class 25 - Program Development and Algorithms \n",
    "**COMP130 - Introduction to Computing**  \n",
    "**Dickinson College**  "
   ]
  },
  {
   "cell_type": "markdown",
   "metadata": {},
   "source": [
    "### Names:"
   ]
  },
  {
   "cell_type": "markdown",
   "metadata": {},
   "source": []
  },
  {
   "cell_type": "markdown",
   "metadata": {},
   "source": [
    "### The Game of Pig\n",
    "\n",
    "This assignment is to implement the dice game [Pig](http://www.dice-play.com/Games/Pig.htm) for two players.  Pig is a simple die game played with 1 die and 2 or more players, but for now we'll limit ourselves to 2 players.  The player's take turns.  On each turn:\n",
    "- The player rolls a die.\n",
    "- If the die is 2, 3, 4, 5, 6 \n",
    "  - the die value is added to the player's *turn score*\n",
    "  - the player can choose to stop and add their *turn score* to their *total score*\n",
    "  - or the player can choose to roll again to try to accumulate a larger *turn score*\n",
    "- If the die is a 1, then the player's turn ends and their *turn score* is 0.\n",
    "- The first player to accumulate a *total score* or 100 wins.\n",
    "\n",
    "The following video also [illustrates how Pig is played](https://www.youtube.com/watch?v=pJZsQ5528ZM)."
   ]
  },
  {
   "cell_type": "markdown",
   "metadata": {},
   "source": [
    "### The Assignment\n",
    "\n",
    "The file __Pig.py__ in the __Class25__ directory contains a very minimal *sketch* of a program that allows two players to play a game of Pig. Your task is to complete this program so that:\n",
    "- The players take turns\n",
    "- On each turn, the player can roll as many times as they like or until they roll a 1.\n",
    "- A *turn score* and *total score* is maintained for each player\n",
    "- The game continues until one of the players reaches 100 points.\n",
    "- The winner of the game is displayed.\n",
    "\n",
    "In addition the program:\n",
    "- Should be tolerant of incorrect choices and ask again if an invalid value is entered by the user.\n",
    "- Should reflect good design (readability, encapsulation, generalization, clean interfaces)"
   ]
  },
  {
   "cell_type": "markdown",
   "metadata": {},
   "source": [
    "###  The Process\n",
    "\n",
    "The best approach here is to use the *incremental development* process described in Class 19 and 20.\n",
    "- __Sketch:__ Sketch out the program and identify functions.\n",
    "- __Stub:__ Write a function stub (name, parameters, prints, return dummy value) and call it with dummy arguments.\n",
    "- __Expand:__ Expand and hand test each small bit of functionality as it is added.\n",
    "  - Debug, adding scaffolding (intermediate variables and prints) as necessary\n",
    "  - Iterate\n",
    "- __Test:__ Produce automated tests for the function to facilitate refactoring.\n",
    "- __Guard:__ Add assert based guardians to ensure function can complete its task.\n",
    "- __Improve:__ Refactor the program and the functions.\n",
    "  - Readability, Encapsulation, Generalization, Efficiency\n",
    "  - Remove all scaffolding."
   ]
  },
  {
   "cell_type": "markdown",
   "metadata": {},
   "source": [
    "### A Possible Transcript of the Program \n",
    "\n",
    "The output of a working program might be similar to the following:\n",
    "\n",
    "```\n",
    "Player 1 roll score 0, total score 0\n",
    "[R]oll or [S]tand: R\n",
    "Player 1 rolls a 4\n",
    "\n",
    "Player 1 roll score 4, total score 0\n",
    "[R]oll or [S]tand: T\n",
    "T is not an option.\n",
    "[R]oll or [S]tand: R\n",
    "Player 1 rolls a 2\n",
    "\n",
    "Player 1 roll score 6, total score 0\n",
    "[R]oll or [S]tand: R\n",
    "Player 1 rolls a 6\n",
    "\n",
    "Player 1 roll score 12, total score 0\n",
    "[R]oll or [S]tand: S\n",
    "Player 1 total score: 12\n",
    "\n",
    "Player 2 roll score 0, total score 0\n",
    "[R]oll or [S]tand: R\n",
    "Player 2 rolls a 3\n",
    "\n",
    "Player 2 roll score 3, total score 0\n",
    "[R]oll or [S]tand: R\n",
    "Player 2 rolls a 1 - Bust!\n",
    "Player 2 total score: 0\n",
    "\n",
    "Player 1 roll score 0, total score 12\n",
    "[R]oll or [S]tand: R\n",
    "Player 1 rolls a 5\n",
    "\n",
    "Player 1 roll score 5, total score 12\n",
    "[R]oll or [S]tand: ...\n",
    "\n",
    "...\n",
    "\n",
    "Player 2 roll score 10, total score 88\n",
    "[R]oll or [S]tand: R\n",
    "Player 2 rolls a 3\n",
    "\n",
    "Player 2 total score: 101\n",
    "\n",
    "Player 2 wins!\n",
    "```"
   ]
  },
  {
   "cell_type": "markdown",
   "metadata": {},
   "source": [
    "### Additional Optional Features:\n",
    "- Replace one of the players with an automated computer player.  When it is the computer's turn, it will decide to Roll or Stand.\n",
    "- Use `graphics.py` to:\n",
    "  - Display the die roll somehow\n",
    "  - Draw buttons and use mouse clicks to Roll or Stand\n",
    "  - Display the scores in the graphics window instead of in text."
   ]
  }
 ],
 "metadata": {
  "kernelspec": {
   "display_name": "Python 3",
   "language": "python",
   "name": "python3"
  },
  "language_info": {
   "codemirror_mode": {
    "name": "ipython",
    "version": 3
   },
   "file_extension": ".py",
   "mimetype": "text/x-python",
   "name": "python",
   "nbconvert_exporter": "python",
   "pygments_lexer": "ipython3",
   "version": "3.7.3"
  }
 },
 "nbformat": 4,
 "nbformat_minor": 2
}
